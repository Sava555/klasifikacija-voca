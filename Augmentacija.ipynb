{
 "cells": [
  {
   "cell_type": "code",
   "execution_count": 8,
   "metadata": {},
   "outputs": [
    {
     "name": "stdout",
     "output_type": "stream",
     "text": [
      "Found 7695 images belonging to 15 classes.\n",
      "Found 1694 images belonging to 15 classes.\n",
      "Found 882 images belonging to 15 classes.\n"
     ]
    }
   ],
   "source": [
    "import numpy as np\n",
    "import pandas as pd\n",
    "import matplotlib.pyplot as plt\n",
    "%matplotlib inline\n",
    "from keras import *\n",
    "import tensorflow as tf\n",
    "from keras.models import Sequential\n",
    "from keras.layers import Dense, Dropout, Activation, Flatten\n",
    "from keras.optimizers import Adam\n",
    "from keras.layers.normalization import BatchNormalization\n",
    "from keras.utils import np_utils\n",
    "from keras.layers import Conv2D, MaxPooling2D, ZeroPadding2D, GlobalAveragePooling2D\n",
    "from sklearn.preprocessing import StandardScaler\n",
    "from sklearn import datasets, svm, metrics\n",
    "from skimage import io\n",
    "import os\n",
    "import matplotlib.pyplot\n",
    "from matplotlib.pyplot import imread\n",
    "import skimage.transform\n",
    "from skimage.transform import resize as imresize\n",
    "from sklearn.model_selection import train_test_split\n",
    "from keras import regularizers\n",
    "from keras.preprocessing import image\n",
    "import csv\n",
    "import time\n",
    "import cv2\n",
    "from PIL import Image\n",
    "\n",
    "\n",
    "datagen = image.ImageDataGenerator()\n",
    "\n",
    "TRENING_PUTANJA = './fruits-360/Train'\n",
    "VALIDACIONA_PUTANJA = './fruits-360/Test'\n",
    "\n",
    "train_datagen = image.ImageDataGenerator(\n",
    "    rotation_range=20,\n",
    "    width_shift_range=0.2,\n",
    "    height_shift_range=0.2,\n",
    "    horizontal_flip=True,\n",
    "    zoom_range = 0.1\n",
    ")\n",
    "\n",
    "val_datagen = image.ImageDataGenerator(\n",
    "    rotation_range=20,\n",
    "    width_shift_range=0.2,\n",
    "    height_shift_range=0.2,\n",
    "    horizontal_flip=True,\n",
    "    zoom_range = 0.1,\n",
    "    validation_split=0.66)\n",
    "\n",
    "train_generator = train_datagen.flow_from_directory(TRENING_PUTANJA, batch_size=8, target_size=(32, 32))\n",
    "val_generator = val_datagen.flow_from_directory(VALIDACIONA_PUTANJA, batch_size=8, target_size=(32, 32), subset='validation')\n",
    "test_generator = val_datagen.flow_from_directory(VALIDACIONA_PUTANJA, batch_size=8, target_size=(32, 32), subset='training')\n"
   ]
  },
  {
   "cell_type": "code",
   "execution_count": 9,
   "metadata": {},
   "outputs": [
    {
     "name": "stdout",
     "output_type": "stream",
     "text": [
      "Epoch 1/6\n",
      "7695/7695 [==============================] - 678s 88ms/step - loss: 0.2714 - acc: 0.9198 - val_loss: 0.6710 - val_acc: 0.8983\n",
      "Epoch 2/6\n",
      "7695/7695 [==============================] - 614s 80ms/step - loss: 0.0851 - acc: 0.9787 - val_loss: 0.0235 - val_acc: 0.9937\n",
      "Epoch 3/6\n",
      "7695/7695 [==============================] - 546s 71ms/step - loss: 0.0491 - acc: 0.9884 - val_loss: 0.0773 - val_acc: 0.9823\n",
      "Epoch 4/6\n",
      "7695/7695 [==============================] - 533s 69ms/step - loss: 0.0446 - acc: 0.9906 - val_loss: 0.0043 - val_acc: 0.9985\n",
      "Epoch 5/6\n",
      "7695/7695 [==============================] - 3003s 390ms/step - loss: 0.0364 - acc: 0.9928 - val_loss: 0.0042 - val_acc: 0.9989\n",
      "Epoch 6/6\n",
      "7695/7695 [==============================] - 534s 69ms/step - loss: 0.0303 - acc: 0.9943 - val_loss: 0.0429 - val_acc: 0.9899\n"
     ]
    }
   ],
   "source": [
    "tf.disable_v2_behavior()\n",
    "\n",
    "model = Sequential()\n",
    "\n",
    "model.add(Conv2D(32,(3,3),input_shape=(32,32,3), padding='same'))\n",
    "model.add(Activation('relu'))\n",
    "model.add(BatchNormalization())\n",
    "model.add(MaxPooling2D(pool_size=(2,2)))\n",
    "\n",
    "model.add(Conv2D(64,(3,3), padding='same'))\n",
    "model.add(Activation('relu'))\n",
    "model.add(BatchNormalization())\n",
    "model.add(MaxPooling2D(pool_size=(2,2)))\n",
    "model.add(Dropout(0.25))\n",
    "\n",
    "\n",
    "model.add(Conv2D(128,(3,3), padding='same'))\n",
    "model.add(Activation('relu'))\n",
    "model.add(BatchNormalization())\n",
    "model.add(MaxPooling2D(pool_size=(2,2)))\n",
    "\n",
    "model.add(Flatten())\n",
    "model.add(Dense(256))\n",
    "model.add(Activation('relu'))\n",
    "model.add(Dropout(0.2))\n",
    "model.add(Dense(15))\n",
    "model.add(Activation('softmax'))\n",
    "\n",
    "model.compile(loss='categorical_crossentropy', optimizer=Adam(),metrics=['accuracy'])\n",
    "history = model.fit_generator(train_generator, epochs=6, steps_per_epoch=train_generator.n, \n",
    "                              validation_data=val_generator, validation_steps=val_generator.n)"
   ]
  },
  {
   "cell_type": "code",
   "execution_count": 16,
   "metadata": {},
   "outputs": [],
   "source": [
    "predict = model.predict_generator(test_generator, steps=test_generator.n)\n"
   ]
  },
  {
   "cell_type": "code",
   "execution_count": 17,
   "metadata": {},
   "outputs": [
    {
     "name": "stdout",
     "output_type": "stream",
     "text": [
      "[9 4 2 ... 0 1 6]\n"
     ]
    }
   ],
   "source": [
    "y_pred = np.argmax(predict, axis = -1)\n",
    "print(y_pred)\n"
   ]
  },
  {
   "cell_type": "code",
   "execution_count": 18,
   "metadata": {},
   "outputs": [],
   "source": [
    "label_map = (train_generator.class_indices)\n",
    "label_map = dict((v,k) for k,v in label_map.items()) #flip k,v\n",
    "predictions = [label_map[k] for k in y_pred]"
   ]
  },
  {
   "cell_type": "code",
   "execution_count": null,
   "metadata": {},
   "outputs": [],
   "source": []
  }
 ],
 "metadata": {
  "kernelspec": {
   "display_name": "Python 3",
   "language": "python",
   "name": "python3"
  },
  "language_info": {
   "codemirror_mode": {
    "name": "ipython",
    "version": 3
   },
   "file_extension": ".py",
   "mimetype": "text/x-python",
   "name": "python",
   "nbconvert_exporter": "python",
   "pygments_lexer": "ipython3",
   "version": "3.5.3"
  }
 },
 "nbformat": 4,
 "nbformat_minor": 2
}
