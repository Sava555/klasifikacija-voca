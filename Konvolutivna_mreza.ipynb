{
 "cells": [
  {
   "cell_type": "code",
   "execution_count": 7,
   "metadata": {},
   "outputs": [
    {
     "name": "stdout",
     "output_type": "stream",
     "text": [
      "Ucitavanje 7695 slika je trajalo 7 s\n",
      "Ucitavanje 2576 slika je trajalo 2 s\n"
     ]
    }
   ],
   "source": [
    "import numpy as np\n",
    "import pandas as pd\n",
    "import matplotlib.pyplot as plt\n",
    "%matplotlib inline\n",
    "from keras import *\n",
    "import tensorflow as tf\n",
    "from keras.models import Sequential\n",
    "from keras.layers import Dense, Dropout, Activation, Flatten\n",
    "from keras.optimizers import Adam\n",
    "from keras.layers.normalization import BatchNormalization\n",
    "from keras.utils import np_utils\n",
    "from keras.layers import Conv2D, MaxPooling2D, ZeroPadding2D, GlobalAveragePooling2D\n",
    "from keras.preprocessing.image import ImageDataGenerator\n",
    "from sklearn.preprocessing import StandardScaler\n",
    "from sklearn import datasets, svm, metrics\n",
    "from sklearn.model_selection import train_test_split\n",
    "from skimage import io\n",
    "import os\n",
    "import matplotlib.pyplot\n",
    "from matplotlib.pyplot import imread\n",
    "import skimage.transform\n",
    "from skimage.transform import resize as imresize\n",
    "from keras import regularizers\n",
    "import csv\n",
    "import time\n",
    "import cv2\n",
    "\n",
    "IMAGE_WIDTH = 64\n",
    "IMAGE_HEIGHT = 64\n",
    "IMAGE_DIMENSIONS = (IMAGE_HEIGHT, IMAGE_WIDTH)\n",
    "\n",
    "TRENING_PUTANJA = './fruits-360/Train'\n",
    "VALIDACIONA_PUTANJA = './fruits-360/Test'\n",
    "\n",
    "# kao parametar prima putanju do folder-a dataset-a\n",
    "def ucitajSlikeIzFoldera(putanja):\n",
    "    slike = []\n",
    "    labele = []\n",
    "    idx_mapa = []\n",
    "    idx = -1\n",
    "\n",
    "    subfolderi = os.listdir(putanja)\n",
    "\n",
    "    for naziv_klase in subfolderi:\n",
    "        putanja_do_slika = os.path.join(putanja, naziv_klase)\n",
    "        labele.append(naziv_klase)\n",
    "\n",
    "        idx = idx + 1\n",
    "        \n",
    "        for naziv_slike in os.listdir(putanja_do_slika):\n",
    "            putanja_do_slike = os.path.join(putanja_do_slika, naziv_slike)\n",
    "            slika = cv2.imread(putanja_do_slike)\n",
    "            slika = cv2.resize(slika, IMAGE_DIMENSIONS)\n",
    "            slika = cv2.cvtColor(slika, cv2.COLOR_RGB2BGR)\n",
    "            slike.append(slika)\n",
    "            \n",
    "            #punim array koji mapira sliku na index labele\n",
    "            idx_mapa.append(idx)\n",
    "            \n",
    "    return np.array(slike), np.array(idx_mapa), labele\n",
    "\n",
    "start = time.time()\n",
    "X_train, y_train, labele = ucitajSlikeIzFoldera(TRENING_PUTANJA)\n",
    "end = time.time()\n",
    "print(\"Ucitavanje %d slika je trajalo %d s\" % (len(y_train),end-start))\n",
    "\n",
    "start = time.time()\n",
    "X_test, y_test, unused = ucitajSlikeIzFoldera(VALIDACIONA_PUTANJA)\n",
    "end = time.time()\n",
    "print(\"Ucitavanje %d slika je trajalo %d s\" % (len(y_test),end-start))\n",
    "\n",
    "X_val, X_test , y_val, y_test = train_test_split(X_test, y_test, test_size = 0.66, random_state = 0)\n",
    "\n"
   ]
  },
  {
   "cell_type": "code",
   "execution_count": 8,
   "metadata": {
    "scrolled": true
   },
   "outputs": [],
   "source": [
    "Y_train = np_utils.to_categorical(y_train, 15)\n",
    "Y_val = np_utils.to_categorical(y_val, 15)\n",
    "Y_test = np_utils.to_categorical(y_test, 15)\n"
   ]
  },
  {
   "cell_type": "code",
   "execution_count": 9,
   "metadata": {},
   "outputs": [
    {
     "name": "stderr",
     "output_type": "stream",
     "text": [
      "W0706 17:50:39.331725  7248 deprecation.py:323] From c:\\users\\savak\\appdata\\local\\programs\\python\\python35\\lib\\site-packages\\tensorflow\\python\\ops\\math_grad.py:1250: add_dispatch_support.<locals>.wrapper (from tensorflow.python.ops.array_ops) is deprecated and will be removed in a future version.\n",
      "Instructions for updating:\n",
      "Use tf.where in 2.0, which has the same broadcast rule as np.where\n"
     ]
    },
    {
     "name": "stdout",
     "output_type": "stream",
     "text": [
      "Train on 7695 samples, validate on 875 samples\n",
      "Epoch 1/5\n",
      "7695/7695 [==============================] - 155s 20ms/step - loss: 0.1465 - acc: 0.9626 - val_loss: 0.0308 - val_acc: 0.9874\n",
      "Epoch 2/5\n",
      "7695/7695 [==============================] - 151s 20ms/step - loss: 0.0087 - acc: 0.9995 - val_loss: 0.0120 - val_acc: 0.9943\n",
      "Epoch 3/5\n",
      "7695/7695 [==============================] - 154s 20ms/step - loss: 0.0131 - acc: 0.9975 - val_loss: 0.0433 - val_acc: 0.9863\n",
      "Epoch 4/5\n",
      "7695/7695 [==============================] - 151s 20ms/step - loss: 0.0020 - acc: 1.0000 - val_loss: 0.0041 - val_acc: 1.0000\n",
      "Epoch 5/5\n",
      "7695/7695 [==============================] - 152s 20ms/step - loss: 0.0018 - acc: 0.9997 - val_loss: 0.0118 - val_acc: 0.9931\n"
     ]
    }
   ],
   "source": [
    "tf.disable_v2_behavior()\n",
    "model = Sequential()\n",
    "\n",
    "model.add(Conv2D(16, (3, 3), input_shape=(IMAGE_HEIGHT, IMAGE_WIDTH, 3)))\n",
    "model.add(BatchNormalization())\n",
    "model.add(Activation('relu'))\n",
    "\n",
    "model.add(Conv2D(16, (3, 3)))\n",
    "model.add(BatchNormalization())\n",
    "model.add(Activation('relu'))\n",
    "\n",
    "model.add(MaxPooling2D(pool_size=(2,2)))\n",
    "\n",
    "model.add(Conv2D(32, (3, 3)))\n",
    "model.add(BatchNormalization())\n",
    "model.add(Activation('relu'))\n",
    "\n",
    "model.add(Conv2D(32, (3, 3)))\n",
    "model.add(BatchNormalization())\n",
    "model.add(Activation('relu'))\n",
    "\n",
    "model.add(MaxPooling2D(pool_size=(2,2)))\n",
    "\n",
    "model.add(Conv2D(64, (3, 3)))\n",
    "model.add(BatchNormalization())\n",
    "model.add(Activation('relu'))\n",
    "model.add(MaxPooling2D(pool_size=(2,2)))\n",
    "\n",
    "\n",
    "model.add(Flatten())\n",
    "\n",
    "# Fully connected layer\n",
    "model.add(Dense(256))\n",
    "model.add(BatchNormalization())\n",
    "model.add(Activation('relu'))\n",
    "model.add(Dropout(0.5))\n",
    "model.add(Dense(15))\n",
    "\n",
    "model.add(Activation('softmax'))\n",
    "\n",
    "model.compile(loss='categorical_crossentropy', optimizer=Adam(),metrics=['accuracy'])\n",
    "history = model.fit(X_train,Y_train, epochs=5, batch_size = 64, validation_data=(X_val,Y_val))\n"
   ]
  },
  {
   "cell_type": "code",
   "execution_count": 10,
   "metadata": {},
   "outputs": [
    {
     "name": "stdout",
     "output_type": "stream",
     "text": [
      "1701/1701 [==============================] - 8s 4ms/step\n",
      "\n",
      "Test loss:  0.00782042660290348\n",
      "Test Accuracy 0.9952968841857731\n"
     ]
    }
   ],
   "source": [
    "score = model.evaluate(X_test, Y_test)\n",
    "print()\n",
    "print('Test loss: ', score[0])\n",
    "print('Test Accuracy', score[1])"
   ]
  },
  {
   "cell_type": "code",
   "execution_count": 11,
   "metadata": {},
   "outputs": [
    {
     "data": {
      "image/png": "[encoded data removed]",
      "text/plain": [
       "<Figure size 432x288 with 1 Axes>"
      ]
     },
     "metadata": {
      "needs_background": "light"
     },
     "output_type": "display_data"
    },
    {
     "data": {
      "image/png": "[encoded data removed]",
      "text/plain": [
       "<Figure size 432x288 with 1 Axes>"
      ]
     },
     "metadata": {
      "needs_background": "light"
     },
     "output_type": "display_data"
    }
   ],
   "source": [
    "plt.plot(history.history['acc'])\n",
    "plt.plot(history.history['val_acc'])\n",
    "plt.title('model accuracy')\n",
    "plt.ylabel('accuracy')\n",
    "plt.xlabel('epoch')\n",
    "plt.legend(['train', 'test'], loc='upper left')\n",
    "plt.show()\n",
    "\n",
    "plt.plot(history.history['loss'])\n",
    "plt.plot(history.history['val_loss'])\n",
    "plt.title('model loss')\n",
    "plt.ylabel('loss')\n",
    "plt.xlabel('epoch')\n",
    "plt.legend(['train', 'test'], loc='upper left')\n",
    "plt.show()"
   ]
  },
  {
   "cell_type": "code",
   "execution_count": null,
   "metadata": {},
   "outputs": [],
   "source": []
  }
 ],
 "metadata": {
  "kernelspec": {
   "display_name": "Python 3",
   "language": "python",
   "name": "python3"
  },
  "language_info": {
   "codemirror_mode": {
    "name": "ipython",
    "version": 3
   },
   "file_extension": ".py",
   "mimetype": "text/x-python",
   "name": "python",
   "nbconvert_exporter": "python",
   "pygments_lexer": "ipython3",
   "version": "3.5.3"
  }
 },
 "nbformat": 4,
 "nbformat_minor": 2
}
