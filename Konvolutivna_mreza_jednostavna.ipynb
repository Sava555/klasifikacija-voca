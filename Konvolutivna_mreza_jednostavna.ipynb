{
 "cells": [
  {
   "cell_type": "code",
   "execution_count": 22,
   "metadata": {},
   "outputs": [
    {
     "name": "stdout",
     "output_type": "stream",
     "text": [
      "Ucitavanje 5744 slika je trajalo 6 s\n",
      "Ucitavanje 1919 slika je trajalo 2 s\n"
     ]
    }
   ],
   "source": [
    "import numpy as np\n",
    "import pandas as pd\n",
    "import matplotlib.pyplot as plt\n",
    "%matplotlib inline\n",
    "from keras import *\n",
    "import tensorflow as tf\n",
    "from keras.models import Sequential\n",
    "from keras.layers import Dense, Dropout, Activation, Flatten\n",
    "from keras.optimizers import Adam\n",
    "from keras.layers.normalization import BatchNormalization\n",
    "from keras.utils import np_utils\n",
    "from keras.layers import Conv2D, MaxPooling2D, ZeroPadding2D, GlobalAveragePooling2D\n",
    "from sklearn.preprocessing import StandardScaler\n",
    "from sklearn import datasets, svm, metrics\n",
    "from skimage import io\n",
    "import os\n",
    "import matplotlib.pyplot\n",
    "from matplotlib.pyplot import imread\n",
    "import skimage.transform\n",
    "from skimage.transform import resize as imresize\n",
    "from sklearn.model_selection import train_test_split\n",
    "from keras import regularizers\n",
    "import csv\n",
    "import time\n",
    "import cv2\n",
    "\n",
    "IMAGE_WIDTH = 32\n",
    "IMAGE_HEIGHT = 32\n",
    "IMAGE_DIMENSIONS = (IMAGE_HEIGHT, IMAGE_WIDTH)\n",
    "\n",
    "TRENING_PUTANJA = './fruits-360/Train'\n",
    "VALIDACIONA_PUTANJA = './fruits-360/Test'\n",
    "\n",
    "# kao parametar prima putanju do folder-a dataset-a\n",
    "def ucitajSlikeIzFoldera(putanja):\n",
    "    slike = []\n",
    "    labele = []\n",
    "    idx_mapa = []\n",
    "    idx = -1\n",
    "\n",
    "    subfolderi = os.listdir(putanja)\n",
    "\n",
    "    for naziv_klase in subfolderi:\n",
    "        putanja_do_slika = os.path.join(putanja, naziv_klase)\n",
    "        labele.append(naziv_klase)\n",
    "\n",
    "        idx = idx + 1\n",
    "        \n",
    "        for naziv_slike in os.listdir(putanja_do_slika):\n",
    "            putanja_do_slike = os.path.join(putanja_do_slika, naziv_slike)\n",
    "            slika = cv2.imread(putanja_do_slike)\n",
    "            slika = cv2.resize(slika, IMAGE_DIMENSIONS)\n",
    "            slika = cv2.cvtColor(slika, cv2.COLOR_RGB2BGR)\n",
    "            slike.append(slika)\n",
    "            \n",
    "            #punim array koji mapira sliku na index labele\n",
    "            idx_mapa.append(idx)\n",
    "            \n",
    "    return np.array(slike), np.array(idx_mapa), labele\n",
    "\n",
    "\n",
    "start = time.time()\n",
    "X_train, y_train, labele = ucitajSlikeIzFoldera(TRENING_PUTANJA)\n",
    "end = time.time()\n",
    "print(\"Ucitavanje %d slika je trajalo %d s\" % (len(y_train),end-start))\n",
    "\n",
    "start = time.time()\n",
    "X_test, y_test, unused = ucitajSlikeIzFoldera(VALIDACIONA_PUTANJA)\n",
    "end = time.time()\n",
    "print(\"Ucitavanje %d slika je trajalo %d s\" % (len(y_test),end-start))\n",
    "\n",
    "X_val, X_test , y_val, y_test = train_test_split(X_test, y_test, test_size = 0.66, random_state = 0)\n",
    "\n",
    "# ukupno = len(y_train) + len(y_test) + len(y_val)\n",
    "# print(\"Velicina trening set-a: %d \" % (len(y_train) * 100 / ukupno))\n",
    "# print(\"Velicina validacionog set-a: %d \" % (len(y_val) * 100 / ukupno))\n",
    "# print(\"Velicina test set-a: %d \" % (len(y_test) * 100 / ukupno))\n"
   ]
  },
  {
   "cell_type": "code",
   "execution_count": 23,
   "metadata": {},
   "outputs": [],
   "source": [
    "Y_train = np_utils.to_categorical(y_train, 15)\n",
    "Y_test = np_utils.to_categorical(y_test, 15)\n",
    "Y_val = np_utils.to_categorical(y_val, 15)\n"
   ]
  },
  {
   "cell_type": "code",
   "execution_count": 24,
   "metadata": {},
   "outputs": [
    {
     "name": "stdout",
     "output_type": "stream",
     "text": [
      "Train on 5744 samples, validate on 652 samples\n",
      "Epoch 1/10\n",
      "5744/5744 [==============================] - 43s 7ms/step - loss: 0.6864 - acc: 0.8341 - val_loss: 0.0819 - val_acc: 0.9678\n",
      "Epoch 2/10\n",
      "5744/5744 [==============================] - 42s 7ms/step - loss: 0.0243 - acc: 0.9929 - val_loss: 0.0722 - val_acc: 0.9755\n",
      "Epoch 3/10\n",
      "5744/5744 [==============================] - 45s 8ms/step - loss: 0.0391 - acc: 0.9864 - val_loss: 0.0938 - val_acc: 0.9678\n",
      "Epoch 4/10\n",
      "5744/5744 [==============================] - 46s 8ms/step - loss: 0.0143 - acc: 0.9958 - val_loss: 0.2014 - val_acc: 0.9172\n",
      "Epoch 5/10\n",
      "5744/5744 [==============================] - 42s 7ms/step - loss: 0.0050 - acc: 0.9995 - val_loss: 0.0579 - val_acc: 0.9877\n",
      "Epoch 6/10\n",
      "5744/5744 [==============================] - 41s 7ms/step - loss: 0.0038 - acc: 0.9993 - val_loss: 0.0209 - val_acc: 0.9893\n",
      "Epoch 7/10\n",
      "5744/5744 [==============================] - 39s 7ms/step - loss: 0.0061 - acc: 0.9979 - val_loss: 0.1296 - val_acc: 0.9402\n",
      "Epoch 8/10\n",
      "5744/5744 [==============================] - 38s 7ms/step - loss: 0.0029 - acc: 0.9995 - val_loss: 0.0296 - val_acc: 0.9877\n",
      "Epoch 9/10\n",
      "5744/5744 [==============================] - 40s 7ms/step - loss: 0.0023 - acc: 0.9991 - val_loss: 0.0091 - val_acc: 0.9985\n",
      "Epoch 10/10\n",
      "5744/5744 [==============================] - 39s 7ms/step - loss: 7.4231e-04 - acc: 1.0000 - val_loss: 0.0400 - val_acc: 0.9801\n"
     ]
    }
   ],
   "source": [
    "tf.disable_v2_behavior()\n",
    "\n",
    "model = Sequential()\n",
    "\n",
    "model.add(Conv2D(32,(3,3),input_shape=(32,32,3), padding='same'))\n",
    "model.add(Activation('relu'))\n",
    "model.add(BatchNormalization())\n",
    "model.add(MaxPooling2D(pool_size=(2,2)))\n",
    "\n",
    "model.add(Conv2D(64,(3,3), padding='same'))\n",
    "model.add(Activation('relu'))\n",
    "model.add(BatchNormalization())\n",
    "model.add(MaxPooling2D(pool_size=(2,2)))\n",
    "model.add(Dropout(0.25))\n",
    "\n",
    "\n",
    "model.add(Conv2D(128,(3,3), padding='same'))\n",
    "model.add(Activation('relu'))\n",
    "model.add(BatchNormalization())\n",
    "model.add(MaxPooling2D(pool_size=(2,2)))\n",
    "\n",
    "model.add(Flatten())\n",
    "model.add(Dense(256))\n",
    "model.add(Activation('relu'))\n",
    "model.add(Dropout(0.2))\n",
    "model.add(Dense(12))\n",
    "model.add(Activation('softmax'))\n",
    "\n",
    "model.compile(loss='categorical_crossentropy', optimizer=Adam(),metrics=['accuracy'])\n",
    "history = model.fit(X_train,Y_train, epochs=10, batch_size = 128, validation_data=(X_val,Y_val))\n"
   ]
  },
  {
   "cell_type": "code",
   "execution_count": 25,
   "metadata": {},
   "outputs": [
    {
     "name": "stdout",
     "output_type": "stream",
     "text": [
      "1267/1267 [==============================] - 3s 2ms/step\n",
      "\n",
      "Test loss:  0.030450728942802575\n",
      "Test Accuracy 0.9881610105897652\n"
     ]
    }
   ],
   "source": [
    "score = model.evaluate(X_test, Y_test)\n",
    "print()\n",
    "print('Test loss: ', score[0])\n",
    "print('Test Accuracy', score[1])"
   ]
  },
  {
   "cell_type": "code",
   "execution_count": 14,
   "metadata": {},
   "outputs": [
    {
     "data": {
      "image/png": "[encoded data removed]",
      "text/plain": [
       "<Figure size 432x288 with 1 Axes>"
      ]
     },
     "metadata": {
      "needs_background": "light"
     },
     "output_type": "display_data"
    },
    {
     "data": {
      "image/png": "[encoded data removed]",
      "text/plain": [
       "<Figure size 432x288 with 1 Axes>"
      ]
     },
     "metadata": {
      "needs_background": "light"
     },
     "output_type": "display_data"
    }
   ],
   "source": [
    "plt.plot(history.history['acc'])\n",
    "plt.plot(history.history['val_acc'])\n",
    "plt.title('model accuracy')\n",
    "plt.ylabel('accuracy')\n",
    "plt.xlabel('epoch')\n",
    "plt.legend(['train', 'test'], loc='upper left')\n",
    "plt.show()\n",
    "\n",
    "plt.plot(history.history['loss'])\n",
    "plt.plot(history.history['val_loss'])\n",
    "plt.title('model loss')\n",
    "plt.ylabel('loss')\n",
    "plt.xlabel('epoch')\n",
    "plt.legend(['train', 'test'], loc='upper left')\n",
    "plt.show()"
   ]
  },
  {
   "cell_type": "code",
   "execution_count": null,
   "metadata": {},
   "outputs": [],
   "source": []
  }
 ],
 "metadata": {
  "kernelspec": {
   "display_name": "Python 3",
   "language": "python",
   "name": "python3"
  },
  "language_info": {
   "codemirror_mode": {
    "name": "ipython",
    "version": 3
   },
   "file_extension": ".py",
   "mimetype": "text/x-python",
   "name": "python",
   "nbconvert_exporter": "python",
   "pygments_lexer": "ipython3",
   "version": "3.5.3"
  }
 },
 "nbformat": 4,
 "nbformat_minor": 2
}
