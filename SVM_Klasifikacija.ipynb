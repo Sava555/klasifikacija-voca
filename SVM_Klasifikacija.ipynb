{
 "cells": [
  {
   "cell_type": "code",
   "execution_count": 10,
   "metadata": {},
   "outputs": [
    {
     "name": "stdout",
     "output_type": "stream",
     "text": [
      "Ucitavanje 7695 slika je trajalo 6 s\n",
      "Ucitavanje 2576 slika je trajalo 2 s\n"
     ]
    }
   ],
   "source": [
    "import numpy as np\n",
    "import pandas as pd\n",
    "import matplotlib.pyplot as plt\n",
    "%matplotlib inline\n",
    "from keras import *\n",
    "from keras.models import Sequential\n",
    "from keras.layers import Dense, Dropout, Activation, Flatten\n",
    "from keras.optimizers import Adam\n",
    "from keras.layers.normalization import BatchNormalization\n",
    "from keras.utils import np_utils\n",
    "from keras.layers import Conv2D, MaxPooling2D, ZeroPadding2D, GlobalAveragePooling2D\n",
    "from keras.preprocessing.image import ImageDataGenerator\n",
    "from sklearn import datasets, svm, metrics\n",
    "from skimage import io\n",
    "import os\n",
    "import matplotlib.pyplot\n",
    "from matplotlib.pyplot import imread\n",
    "import skimage.transform\n",
    "from skimage.transform import resize as imresize\n",
    "from keras import regularizers\n",
    "import csv\n",
    "import time\n",
    "import cv2\n",
    "\n",
    "\n",
    "TRENING_PUTANJA = './fruits-360/Train'\n",
    "VALIDACIONA_PUTANJA = './fruits-360/Test'\n",
    "\n",
    "# kao parametar prima putanju do folder-a dataset-a\n",
    "def ucitajSlikeIzFoldera(putanja):\n",
    "    slike = []\n",
    "    labele = []\n",
    "    idx_mapa = []\n",
    "    idx = -1\n",
    "\n",
    "    subfolderi = os.listdir(putanja)\n",
    "\n",
    "    for naziv_klase in subfolderi:\n",
    "        putanja_do_slika = os.path.join(putanja, naziv_klase)\n",
    "        labele.append(naziv_klase)\n",
    "\n",
    "        idx = idx + 1\n",
    "        \n",
    "        for naziv_slike in os.listdir(putanja_do_slika):\n",
    "            putanja_do_slike = os.path.join(putanja_do_slika, naziv_slike)\n",
    "            slika = cv2.imread(putanja_do_slike)\n",
    "            slika = cv2.resize(slika, (64, 64))\n",
    "            slika = cv2.cvtColor(slika, cv2.COLOR_RGB2BGR)\n",
    "            slike.append(slika)\n",
    "            \n",
    "            #punim array koji mapira sliku na index labele\n",
    "            idx_mapa.append(idx)\n",
    "            \n",
    "    return np.array(slike), np.array(idx_mapa), labele\n",
    "\n",
    "\n",
    "start = time.time()\n",
    "X_train, y_train, labele = ucitajSlikeIzFoldera(TRENING_PUTANJA)\n",
    "end = time.time()\n",
    "print(\"Ucitavanje %d slika je trajalo %d s\" % (len(y_train),end-start))\n",
    "\n",
    "start = time.time()\n",
    "X_test, y_test, unused = ucitajSlikeIzFoldera(VALIDACIONA_PUTANJA)\n",
    "end = time.time()\n",
    "print(\"Ucitavanje %d slika je trajalo %d s\" % (len(y_test),end-start))\n",
    "\n"
   ]
  },
  {
   "cell_type": "code",
   "execution_count": 11,
   "metadata": {},
   "outputs": [],
   "source": [
    "from sklearn.preprocessing import StandardScaler\n",
    "scaler = StandardScaler()\n",
    "x_train = scaler.fit_transform([i.flatten() for i in X_train])\n",
    "x_test = scaler.fit_transform([i.flatten() for i in X_test])"
   ]
  },
  {
   "cell_type": "code",
   "execution_count": 12,
   "metadata": {},
   "outputs": [
    {
     "name": "stdout",
     "output_type": "stream",
     "text": [
      "Tacnost (accuracy) sa SVM: 99.69%\n",
      "Klasifikacija SVM klasifikatorom trajala 153 s\n"
     ]
    }
   ],
   "source": [
    "from sklearn.svm import SVC\n",
    "\n",
    "start = time.time()\n",
    "model = SVC(gamma='auto', kernel='linear')\n",
    "model.fit(x_train, y_train) \n",
    "y_pred = model.predict(x_test)\n",
    "precision = metrics.accuracy_score(y_pred, y_test) * 100\n",
    "end = time.time()\n",
    "\n",
    "print(\"Tacnost (accuracy) sa SVM: {0:.2f}%\".format(precision))\n",
    "print(\"Klasifikacija SVM klasifikatorom trajala %d s\" % (end-start))\n"
   ]
  },
  {
   "cell_type": "code",
   "execution_count": 17,
   "metadata": {},
   "outputs": [
    {
     "name": "stdout",
     "output_type": "stream",
     "text": [
      "Tacnost (accuracy) K-NN: 95.96%\n",
      "Klasifikacija K-Neighbors klasifikatorom trajala 431 s\n"
     ]
    }
   ],
   "source": [
    "from sklearn.neighbors import KNeighborsClassifier\n",
    "\n",
    "start = time.time()\n",
    "model = KNeighborsClassifier(n_neighbors=1)\n",
    "model.fit(x_train, y_train)\n",
    "y_pred = model.predict(x_test)\n",
    "precision = metrics.accuracy_score(y_pred, y_test) * 100\n",
    "end = time.time()\n",
    "\n",
    "print(\"Tacnost (accuracy) K-NN: {0:.2f}%\".format(precision))\n",
    "print(\"Klasifikacija K-Neighbors klasifikatorom trajala %d s\" % (end-start))\n"
   ]
  },
  {
   "cell_type": "code",
   "execution_count": null,
   "metadata": {},
   "outputs": [],
   "source": []
  }
 ],
 "metadata": {
  "kernelspec": {
   "display_name": "Python 3",
   "language": "python",
   "name": "python3"
  },
  "language_info": {
   "codemirror_mode": {
    "name": "ipython",
    "version": 3
   },
   "file_extension": ".py",
   "mimetype": "text/x-python",
   "name": "python",
   "nbconvert_exporter": "python",
   "pygments_lexer": "ipython3",
   "version": "3.5.3"
  }
 },
 "nbformat": 4,
 "nbformat_minor": 2
}
